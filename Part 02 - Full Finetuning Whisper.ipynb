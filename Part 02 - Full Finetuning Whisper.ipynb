{
  "nbformat": 4,
  "nbformat_minor": 0,
  "metadata": {
    "colab": {
      "provenance": [],
      "gpuType": "T4"
    },
    "kernelspec": {
      "name": "python3",
      "display_name": "Python 3"
    },
    "language_info": {
      "name": "python"
    },
    "accelerator": "GPU"
  },
  "cells": [
    {
      "cell_type": "code",
      "execution_count": null,
      "metadata": {
        "id": "rgLHaxPQ7Nge",
        "collapsed": true
      },
      "outputs": [],
      "source": [
        "!pip install sentencepiece protobuf datasets huggingface_hub hf_transfer\n",
        "!pip install evaluate jiwer"
      ]
    },
    {
      "cell_type": "code",
      "source": [
        "from datasets import load_dataset\n",
        "import numpy as np\n",
        "from IPython.display import clear_output\n",
        "from scipy.signal import resample\n",
        "import matplotlib.pyplot as plt\n",
        "from transformers import WhisperTokenizer, WhisperFeatureExtractor, WhisperForConditionalGeneration\n",
        "import torch\n",
        "import evaluate\n",
        "from tqdm import tqdm"
      ],
      "metadata": {
        "id": "JuYlJ3wpbNNN"
      },
      "execution_count": 26,
      "outputs": []
    },
    {
      "cell_type": "code",
      "source": [
        "# WER - Word Error Rate\n",
        "wer = evaluate.load(\"wer\")"
      ],
      "metadata": {
        "id": "HF3cckw4bOe_"
      },
      "execution_count": 27,
      "outputs": []
    },
    {
      "cell_type": "code",
      "source": [
        "def down_sample_rate_audio(audio_original, original_sample_rate):\n",
        "  target_sample_rate = 16000\n",
        "\n",
        "  # Calculate the len of sample for the target sample rate\n",
        "  len_sample = int(len(audio_original) * target_sample_rate / original_sample_rate)\n",
        "\n",
        "  # Resample the audio to the target sample rate\n",
        "  downsampled_audio = resample(audio_original, len_sample)\n",
        "\n",
        "  return downsampled_audio"
      ],
      "metadata": {
        "id": "Fiyb4TnVdWtl"
      },
      "execution_count": 28,
      "outputs": []
    },
    {
      "cell_type": "code",
      "source": [
        "def evaluation(model, dataset):\n",
        "  model.eval()\n",
        "\n",
        "  predictions = []\n",
        "  references = []\n",
        "\n",
        "  for sample in tqdm(dataset, total=len(dataset)):\n",
        "    audio_sample = sample['audio']['array']\n",
        "    sample_rate = sample['audio']['sampling_rate']\n",
        "    text = sample['text']\n",
        "\n",
        "    audio = down_sample_rate_audio(audio_sample, sample_rate)\n",
        "\n",
        "    input_features = feature_extractor(raw_speech=audio,\n",
        "                                  sampling_rate=16000,\n",
        "                                  return_tensors='pt').input_features\n",
        "\n",
        "    # Generate predictions with no gradient computation\n",
        "    with torch.no_grad():\n",
        "      predicted_ids = model.generate(input_features.to('cuda'), language='english', task='transcribe')\n",
        "\n",
        "    # Decode predictions\n",
        "    text_preds = tokenizer.batch_decode(predicted_ids, skip_special_tokens=True)\n",
        "\n",
        "    predictions.append(text_preds[0])\n",
        "    references.append(text)\n",
        "\n",
        "  WER = wer.compute(predictions=predictions, references=references)\n",
        "\n",
        "  return WER"
      ],
      "metadata": {
        "id": "LLeRyTFdn2GT"
      },
      "execution_count": 29,
      "outputs": []
    },
    {
      "cell_type": "code",
      "source": [
        "def print_data(model, dataset):\n",
        "  model.eval()\n",
        "\n",
        "  for index in range(10):\n",
        "    target = dataset[index]['text']\n",
        "    audio_original = dataset[index]['audio']['array']\n",
        "\n",
        "    input_feature = feature_extractor(raw_speech=audio_original,\n",
        "                                    sampling_rate=16000,\n",
        "                                    return_tensors='pt').input_features\n",
        "\n",
        "    with torch.no_grad():\n",
        "      op = model.generate(input_feature.to('cuda'), language='english', task='transcribe')\n",
        "\n",
        "    text_pred = tokenizer.batch_decode(op, skip_special_tokens=True)[0]\n",
        "\n",
        "    print(f'-----{index}-----')\n",
        "    print(f'True: {target}')\n",
        "    print(f'Prediction: {text_pred}')"
      ],
      "metadata": {
        "id": "gwzkNShrwQ-O"
      },
      "execution_count": 30,
      "outputs": []
    },
    {
      "cell_type": "markdown",
      "source": [
        "# Initialize Models"
      ],
      "metadata": {
        "id": "_YBXh1yjj1Wu"
      }
    },
    {
      "cell_type": "code",
      "source": [
        "# Transform text to token\n",
        "tokenizer = WhisperTokenizer.from_pretrained(\"openai/whisper-small\", language='english', task='transcribe')\n",
        "\n",
        "# Feature extractor for getting input feature\n",
        "feature_extractor = WhisperFeatureExtractor.from_pretrained(\"openai/whisper-small\", language='english', task='transcribe')\n",
        "\n",
        "# Prediction using Whisper Model\n",
        "model = WhisperForConditionalGeneration.from_pretrained(\"openai/whisper-small\").to('cuda')"
      ],
      "metadata": {
        "id": "Na7hii2Nc88u"
      },
      "execution_count": 31,
      "outputs": []
    },
    {
      "cell_type": "code",
      "source": [
        "# Train Data\n",
        "atco_asr_data = load_dataset(\"jlvdoorn/atco2-asr-atcosim\", split=\"train\")\n",
        "\n",
        "# Select first 200 sample for test\n",
        "atco_asr_data = atco_asr_data.select(range(200))"
      ],
      "metadata": {
        "id": "EWCiS9HgeF0A"
      },
      "execution_count": 32,
      "outputs": []
    },
    {
      "cell_type": "markdown",
      "source": [
        "# Find out the maximum length of transcription in train dataset"
      ],
      "metadata": {
        "id": "hYjjgRWRiaz4"
      }
    },
    {
      "cell_type": "code",
      "source": [
        "list_of_transcription_len = []\n",
        "\n",
        "for sample in atco_asr_data:\n",
        "  text = sample['text']\n",
        "  tokenized_text = tokenizer(text).input_ids\n",
        "  list_of_transcription_len.append(len(tokenized_text))\n",
        "\n",
        "plt.hist(list_of_transcription_len, bins=100)\n",
        "plt.show()"
      ],
      "metadata": {
        "id": "-9gzFqn_ii9W",
        "colab": {
          "base_uri": "https://localhost:8080/",
          "height": 430
        },
        "outputId": "2600cebb-d0de-4820-cfda-13eb0ffd2f29"
      },
      "execution_count": 33,
      "outputs": [
        {
          "output_type": "display_data",
          "data": {
            "text/plain": [
              "<Figure size 640x480 with 1 Axes>"
            ],
            "image/png": "[encoded data removed]"
          },
          "metadata": {}
        }
      ]
    },
    {
      "cell_type": "markdown",
      "source": [
        "# Data before training"
      ],
      "metadata": {
        "id": "LSy7SuxnwlNA"
      }
    },
    {
      "cell_type": "code",
      "source": [
        "print('------Before Training------')\n",
        "print_data(model, atco_asr_data)"
      ],
      "metadata": {
        "colab": {
          "base_uri": "https://localhost:8080/"
        },
        "id": "3ZJFQxqRwkqU",
        "outputId": "309fe664-1db1-4744-ee07-f7d6e7ead2d9"
      },
      "execution_count": 34,
      "outputs": [
        {
          "output_type": "stream",
          "name": "stdout",
          "text": [
            "------Before Training------\n",
            "-----0-----\n",
            "True: Oscar Kilo Papa Mike Bravo descend flight level one hundred level one hundred Oscar Kilo Papa Mike Bravo \n",
            "Prediction:  Oscar Quilopapa Mike Bravo, RISC100\n",
            "-----1-----\n",
            "True: Oscar Kilo Kilo Echo Alfa Praha Radar identified climb flight level one hundred IFR flight starts  now time zero five cleared to destination via flight plan route \n",
            "Prediction:  Oscar kilo kilo, Eqa, Praha radar identified. Consulate level 100, AFL, now time 05, quick destination, WFL, BenRoot.\n",
            "-----2-----\n",
            "True: Ryanair Seven Three Alpha Hotel turn left heading three six zero Ryanair Seven Three Alpha Hotel \n",
            "Prediction:  Ryanair 730 hotel on left heading 360 Ryanair 730 hotel\n",
            "-----3-----\n",
            "True: Oscar Kilo Kilo Uniform November proceed direct Baltu proceed direct Baltu Oscar Kilo Kilo Uniform November \n",
            "Prediction:  Oscar, what did you say in the phone number?\n",
            "-----4-----\n",
            "True: Oscar Mike Papa turn right heading zero two zero cleared ILS approach runway zero six speed maximum one six zero knots right heading zero two zero cleared ILS approach zero six and maximum one six zero speed confirm I do confirm \n",
            "Prediction:  Right heading 020 cleared on separation runway 06, speed maximum 167 knots Right heading 020 cleared on separation runway 06, maximum 167 knots, confirm? I do confirm\n",
            "-----5-----\n",
            "True:  good evening Lufthansa Eight Hotel Romeo passing two thousand five hundred climbing five thousand Lufthansa Eight Hotel Romeo  Praha Radar good evening identified climb to flight level one six zero Lufthansa Eight Hotel Romeo climb flight level one six zero \n",
            "Prediction:  Good evening Lufthansa 8-Hotel Romeo passing 2005 on a climbing 5-0 Lufthansa 8-Hotel Romeo, Praharida, good evening, identified, climb to flight level 160 Lufthansa 8-Hotel Romeo, climb to flight level 160\n",
            "-----6-----\n",
            "True: Speedbird Eight Five Five Praha Radar identified climb flight level one six zero one six zero Speedbird Eight Five Five \n",
            "Prediction:  P-Bird 855, P-Hareda identified, runway 155, L160. L160, P-Bird 855.\n",
            "-----7-----\n",
            "True: Skytravel Three Five Juliett turn right heading one eight zero vectoring for spacing  turning right heading one eight zero Skytravel Three Five Juliett \n",
            "Prediction:  Skate Roll 35, Juliet, on the right heading 180, vectoring for phase 6. Attenig ride heading 180, Skate Roll 35, Juliet.\n",
            "-----8-----\n",
            "True: Air France One Zero Eight Zulu standby now descend to  descend flight level seven zero Air France One Zero Eight Zulu \n",
            "Prediction:  Airfield 1080 standby, now descent to... descent flight to L70.\n",
            "-----9-----\n",
            "True: Ryanair Nine Two Bravo Quebec turn right heading zero nine zero nine zero degrees Ryanair Nine Two Bravo Quebec \n",
            "Prediction:  Rana nanotsubrawa Quebec, turn right heading 090. Rana nanotsubrawa Quebec.\n"
          ]
        }
      ]
    },
    {
      "cell_type": "markdown",
      "source": [
        "# Format data for training"
      ],
      "metadata": {
        "id": "XHBTGUTlkFWs"
      }
    },
    {
      "cell_type": "code",
      "source": [
        "class whisper_training_dataset(torch.utils.data.Dataset):\n",
        "  def __init__(self, dataset, max_len): # dataset is huggingface dataset object\n",
        "    self.dataset = dataset\n",
        "    self.max_len = max_len\n",
        "    self.bos_token = model.config.decoder_start_token_id\n",
        "\n",
        "  def __len__(self):\n",
        "    return len(self.dataset)\n",
        "\n",
        "  def __getitem__(self, index):\n",
        "    item = self.dataset[index]\n",
        "\n",
        "    # Input Feature\n",
        "    audio_data = down_sample_rate_audio(item['audio']['array'], item['audio']['sampling_rate'])\n",
        "    input_features = feature_extractor(raw_speech=audio_data,\n",
        "                                  sampling_rate=16000,\n",
        "                                  return_tensors='pt').input_features[0]\n",
        "\n",
        "    # Process the transcription\n",
        "    transcription = item['text']\n",
        "\n",
        "    ## Create labels\n",
        "    labels = tokenizer(transcription, padding='max_length', max_length=self.max_len, truncation=True, return_tensors='pt')\n",
        "\n",
        "    # Replace all elements in encoded_target by -100 by position of elements value 0 (not 1) in attention_mask\n",
        "    labels = labels['input_ids'].masked_fill(labels['attention_mask'].ne(1), -100)\n",
        "\n",
        "    labels = labels[0][1:]\n",
        "\n",
        "    return {\n",
        "        \"input_features\": input_features,\n",
        "        \"labels\": labels,\n",
        "    }"
      ],
      "metadata": {
        "id": "XKxng3SHeVtp"
      },
      "execution_count": 35,
      "outputs": []
    },
    {
      "cell_type": "code",
      "source": [
        "dataset = whisper_training_dataset(dataset=atco_asr_data, max_len=60)\n",
        "\n",
        "train_dataloader = torch.utils.data.DataLoader(\n",
        "    dataset,\n",
        "    batch_size=8,\n",
        "    shuffle=True\n",
        ")"
      ],
      "metadata": {
        "id": "YjK0TsZJhkvS"
      },
      "execution_count": 36,
      "outputs": []
    },
    {
      "cell_type": "markdown",
      "source": [
        "# Training"
      ],
      "metadata": {
        "id": "I4qY6dz8k5LW"
      }
    },
    {
      "cell_type": "code",
      "source": [
        "device = 'cuda'\n",
        "max_epochs = 5\n",
        "running_wer = []\n",
        "\n",
        "optimizer = torch.optim.AdamW(model.parameters(), lr=1e-5)\n",
        "\n",
        "# tqdm for showing process\n",
        "for epoch in tqdm(range(max_epochs)):\n",
        "  for batch in train_dataloader:\n",
        "\n",
        "    model.train()   # Train Mode\n",
        "\n",
        "    input_features, labels = batch[\"input_features\"].to(device), batch[\"labels\"].to(device)\n",
        "\n",
        "    ## FORWARD PASS\n",
        "    # Calculate loss between input & label\n",
        "    outputs = model(input_features, labels=labels)\n",
        "    loss = outputs.loss\n",
        "\n",
        "    ## BACKWARD PROPAGATION\n",
        "    loss.backward()\n",
        "    optimizer.step()\n",
        "    optimizer.zero_grad()   # Reset gradients\n",
        "\n",
        "  running_wer.append(evaluation(model, atco_asr_data))\n",
        "\n",
        "  plt.plot(running_wer)\n",
        "  clear_output(wait=True)\n",
        "  plt.xlabel('epochs')\n",
        "  plt.ylabel('WER (%)')\n",
        "  plt.show()\n"
      ],
      "metadata": {
        "colab": {
          "base_uri": "https://localhost:8080/",
          "height": 466
        },
        "id": "RauH0P8FkYjF",
        "outputId": "e12e460a-16e1-4dba-a453-97b0023d5b2c"
      },
      "execution_count": 37,
      "outputs": [
        {
          "output_type": "display_data",
          "data": {
            "text/plain": [
              "<Figure size 640x480 with 1 Axes>"
            ],
            "image/png": "[encoded data removed]"
          },
          "metadata": {}
        },
        {
          "output_type": "stream",
          "name": "stderr",
          "text": [
            "100%|██████████| 5/5 [17:17<00:00, 207.56s/it]\n"
          ]
        }
      ]
    },
    {
      "cell_type": "markdown",
      "source": [
        "# Save Finetuned Model"
      ],
      "metadata": {
        "id": "n1mr2nv5k7zI"
      }
    },
    {
      "cell_type": "code",
      "source": [
        "torch.save(model.state_dict(), 'finetune_whisper_small.pth')\n",
        "model.load_state_dict(torch.load('finetune_whisper_small.pth', weights_only=True))\n",
        "model.eval()  # Evaluation Mode\n",
        "model.to('cuda')"
      ],
      "metadata": {
        "id": "Bk8k-iNi0FOd"
      },
      "execution_count": null,
      "outputs": []
    },
    {
      "cell_type": "markdown",
      "source": [
        "# After Training"
      ],
      "metadata": {
        "id": "bsdA4tL8wuO-"
      }
    },
    {
      "cell_type": "code",
      "source": [
        "print('------After Training------')\n",
        "print_data(model, atco_asr_data)"
      ],
      "metadata": {
        "id": "NPudCFgx0YrH",
        "colab": {
          "base_uri": "https://localhost:8080/"
        },
        "outputId": "4e40d368-1aa5-446d-950f-fde020e6b106"
      },
      "execution_count": 39,
      "outputs": [
        {
          "output_type": "stream",
          "name": "stdout",
          "text": [
            "------After Training------\n",
            "-----0-----\n",
            "True: Oscar Kilo Papa Mike Bravo descend flight level one hundred level one hundred Oscar Kilo Papa Mike Bravo \n",
            "Prediction: Oscar Kilo Papa Mike Bravo descend flight level one hundred level one hundred Oscar Kilo Papa Mike Bravo \n",
            "-----1-----\n",
            "True: Oscar Kilo Kilo Echo Alfa Praha Radar identified climb flight level one hundred IFR flight starts  now time zero five cleared to destination via flight plan route \n",
            "Prediction: Oscar Kilo Kilo Echo Alfa Praha Radar identified climb flight level one hundred IFR flight starts  now time zero five cleared to destination via flight plan route \n",
            "-----2-----\n",
            "True: Ryanair Seven Three Alpha Hotel turn left heading three six zero Ryanair Seven Three Alpha Hotel \n",
            "Prediction: Ryanair Seven Three Alpha Hotel turn left heading three six zero Ryanair Seven Three Alpha Hotel \n",
            "-----3-----\n",
            "True: Oscar Kilo Kilo Uniform November proceed direct Baltu proceed direct Baltu Oscar Kilo Kilo Uniform November \n",
            "Prediction: Oscar Kilo Kilo Uniform November proceed direct Baltu proceed direct Baltu Oscar Kilo Kilo Uniform November \n",
            "-----4-----\n",
            "True: Oscar Mike Papa turn right heading zero two zero cleared ILS approach runway zero six speed maximum one six zero knots right heading zero two zero cleared ILS approach zero six and maximum one six zero speed confirm I do confirm \n",
            "Prediction: Oscar Mike Papa turn right heading zero two zero cleared ILS approach runway zero six speed maximum one six zero knots right heading zero two zero cleared ILS approach zero six and maximum one six zero speed confirm I do confirm \n",
            "-----5-----\n",
            "True:  good evening Lufthansa Eight Hotel Romeo passing two thousand five hundred climbing five thousand Lufthansa Eight Hotel Romeo  Praha Radar good evening identified climb to flight level one six zero Lufthansa Eight Hotel Romeo climb flight level one six zero \n",
            "Prediction:  good evening Lufthansa Eight Hotel Romeo passing two thousand five hundred climbing five thousand Lufthansa Eight Hotel Romeo  Praha Radar good evening identified climb to flight level one six zero Lufthansa Eight Hotel Romeo climb flight level one six zero \n",
            "-----6-----\n",
            "True: Speedbird Eight Five Five Praha Radar identified climb flight level one six zero one six zero Speedbird Eight Five Five \n",
            "Prediction: Speedbird Eight Five Five Praha Radar identified climb flight level one six zero one six zero Speedbird Eight Five Five \n",
            "-----7-----\n",
            "True: Skytravel Three Five Juliett turn right heading one eight zero vectoring for spacing  turning right heading one eight zero Skytravel Three Five Juliett \n",
            "Prediction: Skytravel Three Five Juliett turn right heading one eight zero vectoring for spacing  turning right heading one eight zero Skytravel Three Five Juliett \n",
            "-----8-----\n",
            "True: Air France One Zero Eight Zulu standby now descend to  descend flight level seven zero Air France One Zero Eight Zulu \n",
            "Prediction: Air France One Zero Eight Zulu standby now descend to  descend flight level seven zero Air France One Zero Eight Zulu \n",
            "-----9-----\n",
            "True: Ryanair Nine Two Bravo Quebec turn right heading zero nine zero nine zero degrees Ryanair Nine Two Bravo Quebec \n",
            "Prediction: Ryanair Nine Two Bravo Quebec turn right heading zero nine zero nine zero degrees Ryanair Nine Two Bravo Quebec \n"
          ]
        }
      ]
    }
  ]
}